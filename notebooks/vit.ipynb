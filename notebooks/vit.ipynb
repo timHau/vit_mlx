{
 "cells": [
  {
   "cell_type": "code",
   "execution_count": 1,
   "metadata": {},
   "outputs": [],
   "source": [
    "from vit_mlx import ViT\n",
    "import mlx.core as mx"
   ]
  },
  {
   "cell_type": "code",
   "execution_count": 5,
   "metadata": {},
   "outputs": [
    {
     "data": {
      "text/plain": [
       "array([[[0.204824, -0.133894, -0.307714, ..., 0.166443, 0.146309, -0.71956],\n",
       "        [-0.711426, -0.0449086, -0.774284, ..., -0.769493, 0.0927616, -0.640561],\n",
       "        [-0.510496, 0.269365, 0.360923, ..., 0.27439, 0.213679, 0.0628644],\n",
       "        ...,\n",
       "        [0.0525535, 1.10008, -0.242997, ..., -0.0911612, 0.540749, -1.09347],\n",
       "        [-0.190311, 0.00720947, 0.0593601, ..., -0.328162, 0.401885, -0.594069],\n",
       "        [0.159979, 0.691472, -0.0302227, ..., 0.487277, 0.363351, 0.254512]]], dtype=float32)"
      ]
     },
     "execution_count": 5,
     "metadata": {},
     "output_type": "execute_result"
    }
   ],
   "source": [
    "v = ViT(\n",
    "    image_size=256,\n",
    "    patch_size=32,\n",
    "    num_classes=1000,\n",
    "    dim=1024,\n",
    "    depth=6,\n",
    "    heads=16,\n",
    "    mlp_dim=2048,\n",
    "    dropout=0.1,\n",
    "    emb_dropout=0.1,\n",
    ")\n",
    "\n",
    "img = mx.random.normal((1, 3, 256, 256))\n",
    "preds = v(img)\n",
    "preds"
   ]
  },
  {
   "cell_type": "code",
   "execution_count": 4,
   "metadata": {},
   "outputs": [
    {
     "data": {
      "text/plain": [
       "(1, 1000)"
      ]
     },
     "execution_count": 4,
     "metadata": {},
     "output_type": "execute_result"
    }
   ],
   "source": [
    "preds.shape"
   ]
  },
  {
   "cell_type": "code",
   "execution_count": null,
   "metadata": {},
   "outputs": [],
   "source": []
  }
 ],
 "metadata": {
  "kernelspec": {
   "display_name": ".venv",
   "language": "python",
   "name": "python3"
  },
  "language_info": {
   "codemirror_mode": {
    "name": "ipython",
    "version": 3
   },
   "file_extension": ".py",
   "mimetype": "text/x-python",
   "name": "python",
   "nbconvert_exporter": "python",
   "pygments_lexer": "ipython3",
   "version": "3.12.5"
  }
 },
 "nbformat": 4,
 "nbformat_minor": 2
}
